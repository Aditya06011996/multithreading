{
 "cells": [
  {
   "cell_type": "markdown",
   "id": "5b35dd3f-e328-4ea0-9429-3e6374df6ab2",
   "metadata": {},
   "source": [
    "Q 1 What is multithreading in python? Why is it used? Name the module used to handle threads in python."
   ]
  },
  {
   "cell_type": "markdown",
   "id": "710c86eb-11cb-424c-bc65-66622c355b03",
   "metadata": {},
   "source": [
    "Ans - Multithreading in python refers to the concurrent execution of multiple threads within a single process. A thread is a lightweight unit of execution that can run concurrently with other threads, sharing the same memory space. Multithreading allows for parallelism and can help improve the performance and responsiveness of certain types of programs. \n",
    "\n",
    "Threads are useful in scenarios where a program needs to perform multiple tasks simultaneously or when tasks can be executed independently without blocking each other. Some common use cases for multithreading in python include:\n",
    "\n",
    "1.Performing I/O bound operations : Multithreading can be useful when dealing with I/O bound tasks such as reading from or writing to files, network operations, or interacting with a database. While one thread waits for I/O , other threads can continue executing, utilizing the available CPU resources more effectively.\n",
    "\n",
    "2.GUI applications : Graphical User Interface applications often require responsiveness while performing time-consuming tasks. By running time consuming operations in a separate thread, the main GUI thread remains free to respond to user interactions, preventing the application from becoming unresponsive.\n",
    "\n",
    "3.CPU bound tasks on multi-core systems : Although Python's Global Interpreter Lock (GIL) prevents true parallel execution of multiple threads due to its limitations on CPU bound tasks, multithreading can still be beneficial on multi-core systems. Multiple threads can make progress by utilizing multiple cores, resulting in improved performance for certain types of computations.\n",
    "\n",
    "The 'threading' module is commonly used in Python to handle threads. It provides a high level interface for creating , managing, and synchronizing threads. The 'threading'module allows you to define and start new threads, control their execution , and coordinate their interactions through various synchronization primitives like locks, semaphores, and condition variables."
   ]
  },
  {
   "cell_type": "markdown",
   "id": "dcfa90f0-d316-4981-9303-d15afff7f4ff",
   "metadata": {},
   "source": [
    "Q 2 Why threading module used? Write the use of the following functions:\n",
    "1.activeCount()\n",
    "2.currentThread()\n",
    "3.enumerate()"
   ]
  },
  {
   "cell_type": "markdown",
   "id": "25a655f1-4f6b-43bf-8ed1-14c372ea6ebd",
   "metadata": {},
   "source": [
    "Ans The threading module in Python is used to create and manage threads, which are separate sequences of execution within a program.Threads allow concurrent execution of multiple tasks, enabling programs to make better use of available resources and improve overall performance. The threading module provides various functions and classes to facilitate thread management.\n",
    "\n",
    "1.activeCount() : This function returns the number of Thread objects currently alive. It counts both daemon and non-daemon threads. The main purpose of this function is to determine the number of active threads at any given time. \n",
    "\n",
    "2.currentThread() : This function returns the Thread object corresponding to the calling thread. It allows you to obtain a reference to the currently executing thread. You can use this function to access various properties and methods of the current thread, such as its name, identification number(ID), and more. \n",
    "\n",
    "3.enumerate() : This function returns a list of all Thread objects currently alive. It provides a way to iterate over all active threads. Each thread in the list can be examined individually, allowing you to access and manipulate their properties and methods. This function is useful when you want to inspect or perform operations on all running threads simultaneously.\n",
    "\n",
    "Overall, these functions in the threading module provide essential tools for managing and interacting with threads in a Python program. They allow you to monitor the state of threads, control their execution , and perform operations based on the current thread context."
   ]
  },
  {
   "cell_type": "markdown",
   "id": "4c882545-de48-498b-ae58-3379dcd3d90d",
   "metadata": {},
   "source": [
    "Q 3 Explain the following functions:\n",
    "1.run()\n",
    "2.start()\n",
    "3.join()\n",
    "4.isAlive()"
   ]
  },
  {
   "cell_type": "markdown",
   "id": "c88647ad-cdb4-4c5b-9daf-fb8c0b1d9d03",
   "metadata": {},
   "source": [
    "Ans 3 1.run() : The run() method is the entry point for the thread's activity. It contains the code that will be executed when the thread is started. This method needs to be overridden in a subclass of the 'Thread' class from the threading module. When the 'start()' method is called on a thread object, it in turn calls the run() method to begin executing the threads code.\n",
    "\n",
    "2.start() : The start() method is used to start a new thread's activity. It initiates the execution of the thread by calling the run() method in a separate thread of control. This method returns immediately after starting the thread and doesnot wait for the thread to complete its execution Once a thread is started , its run() method will be executed concurrently with other threads.\n",
    "\n",
    "3.join() : The join() method is used to wait for a thread to complete its execution. When called on a thread object, the calling thread will be blocked until the thread being joined terminates. This allows you to synchronize the execution of multiple threads and ensure that one thread doesn't proceed before another completes its task. You can also specify a timeout value as an argument to join() which determines the maximum time to wait for the thread to finish before proceeding. \n",
    "\n",
    "4.isAlive() : The isAlive() method is used to check whether a thread is currently active and running. It returns 'True' if the thread is still executing its code or 'False' if it has completed its execution or hasn't started yet. This method is useful when you need to determine the status of a thread and make decisions based on whether it is still running or has terminated.\n",
    "\n",
    "These functions play key roles in managing threads and coordinating their execution. By using start() and join() you can control the order of thread execution and synchronize their activities. The run() method provides the code to be executed within the thread, and isAlive() helps in checking the status of a thread during its lifetime."
   ]
  },
  {
   "cell_type": "markdown",
   "id": "fb772fe7-f3a6-477d-86a4-f2db815e94d2",
   "metadata": {},
   "source": [
    "Q 4 Write a python program to create two threads. Threads one must print the list of squares and thread two must print the list of cubes."
   ]
  },
  {
   "cell_type": "code",
   "execution_count": 4,
   "id": "bd744b00-68f8-4404-9d2a-13809385ac33",
   "metadata": {},
   "outputs": [
    {
     "name": "stdout",
     "output_type": "stream",
     "text": [
      "Square of 1: 1\n",
      "Square of 2: 4\n",
      "Square of 3: 9\n",
      "Square of 4: 16\n",
      "Square of 5: 25\n",
      "Square of 6: 36\n",
      "Square of 7: 49\n",
      "Square of 8: 64\n",
      "Square of 9: 81\n",
      "Square of 10: 100\n",
      "Cube of 1: 1\n",
      "Cube of 2: 8\n",
      "Cube of 3: 27\n",
      "Cube of 4: 64\n",
      "Cube of 5: 125\n",
      "Cube of 6: 216\n",
      "Cube of 7: 343\n",
      "Cube of 8: 512\n",
      "Cube of 9: 729\n",
      "Cube of 10: 1000\n"
     ]
    }
   ],
   "source": [
    "import threading\n",
    "\n",
    "def print_squares():\n",
    "    for i in range(1,11):\n",
    "        print(f\"Square of {i}: {i**2}\")\n",
    "        \n",
    "        \n",
    "def print_cubes():\n",
    "    for i in range(1,11):\n",
    "        print(f\"Cube of {i}: {i**3}\")\n",
    "        \n",
    "#Create the first thread for printing squares\n",
    "thread_squares = threading.Thread(target = print_squares) \n",
    "\n",
    "#Create the second thread for printing cubes\n",
    "thread_cubes = threading.Thread(target = print_cubes)\n",
    "\n",
    "#Start both threads\n",
    "thread_squares.start()\n",
    "thread_cubes.start()\n",
    "\n",
    "#Wait for both threads to finish\n",
    "thread_squares.join()\n",
    "thread_cubes.join()"
   ]
  },
  {
   "cell_type": "markdown",
   "id": "e3ecc7ab-87c1-4fd6-8eaf-f2f3b31927fb",
   "metadata": {},
   "source": [
    "Q 5 State advantages and disadvantages of multithreading."
   ]
  },
  {
   "cell_type": "markdown",
   "id": "a1360161-8dfc-4483-b257-1c9cc3de894f",
   "metadata": {},
   "source": [
    "Advantages of Multithreading:\n",
    "\n",
    "1.Increased Responsiveness: Multithreading allows a program to remain responsive even when performing time-consuming tasks. By executive tasks concurrently, the program can continue to respond to user input or handle other operations without blocking. \n",
    "\n",
    "2.Enhanced Performance: Multithreading can improve the overall performance of a program by utilizing available system resources efficiently. It enables parallel execution of tasks, taking advantage of multiple processor cores, thus potentially speeding up the execution of complex computations or I/O bound operations.\n",
    "\n",
    "3.Resource Sharing : Threads within a process share the same memory space, which facilitates efficient sharing of data. This eliminates the need for complex and costly inter-process communication mechanisms. Threads can access shared data structures directly, leading to streamlined communication and coordination.\n",
    "\n",
    "4.Simplified Program Structure : Multithreading can simplify program design by dividing complex tasks into smaller, manageable threads. Each thread can focus on a specific aspect of the task, making the code more modular and easier to understand, maintain, and debug.\n",
    "\n",
    "Disadvantages of Multithreading:\n",
    "\n",
    "1.Complexity : Multithreading introduces complexity into  program design and development. Synchronization between threads, avoiding race conditions, and ensuring thread safety can be challenging and error-prone. Debugging and testing multithreaded programs can also be more difficult.\n",
    "\n",
    "2.Synchronization Overhead : When multiple threads access shared resources, synchronization mechanisms must be used to prevent data inconsistencies and race conditions. The overhead of synchronization can impact performance and introduce potential bottlenecks. \n",
    "\n",
    "3.Increased Memory Usage : Each thread requires its own stack and thread specific data, which adds to the memory overhead. If an application creates a large number of threads, it can lead to increased memory consumption. \n",
    "\n",
    "4.Potential Deadlocks : When multiple threads contend for shared resources and acquire locks in differnt orders, it can result in a deadlock where threads wait indefinitely for resources that will never become available . Detecting and resolving deadlocks can be challenging."
   ]
  },
  {
   "cell_type": "markdown",
   "id": "404a4906-ba64-4e84-8c8b-0b6930b50f2e",
   "metadata": {},
   "source": [
    "Q 6 Explain deadlocks and race conditions."
   ]
  },
  {
   "cell_type": "markdown",
   "id": "341966cd-12bf-47bb-ba57-8725cc93deda",
   "metadata": {},
   "source": [
    "Ans Deadlocks : A deadlock is a situation where two or more threads or processes are unable to proceed because each is waiting for a resource held by another, resulting in a circular dependency. In other words, each thread is stuck waiting for a resource that is held by another thread, preventing any progress in the system.\n",
    "\n",
    "Race Conditions : A Race condition occurs when the behavior of a program depends on the relative timinig of events or the order of execution of concurrent operations. It arises when multiple threads access shared resources or variables concurrntly, and the final outcome depends on the interleaving of their execution."
   ]
  },
  {
   "cell_type": "code",
   "execution_count": null,
   "id": "71727f0f-449c-4adb-8296-53613f9026fa",
   "metadata": {},
   "outputs": [],
   "source": []
  }
 ],
 "metadata": {
  "kernelspec": {
   "display_name": "Python 3 (ipykernel)",
   "language": "python",
   "name": "python3"
  },
  "language_info": {
   "codemirror_mode": {
    "name": "ipython",
    "version": 3
   },
   "file_extension": ".py",
   "mimetype": "text/x-python",
   "name": "python",
   "nbconvert_exporter": "python",
   "pygments_lexer": "ipython3",
   "version": "3.10.8"
  }
 },
 "nbformat": 4,
 "nbformat_minor": 5
}
